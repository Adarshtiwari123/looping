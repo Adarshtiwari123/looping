{
 "cells": [
  {
   "cell_type": "code",
   "execution_count": 7,
   "metadata": {},
   "outputs": [
    {
     "name": "stdout",
     "output_type": "stream",
     "text": [
      "the 10 natural number are:\n",
      "0\n",
      "1\n",
      "2\n",
      "3\n",
      "4\n",
      "5\n",
      "6\n",
      "7\n",
      "8\n",
      "9\n",
      "10\n"
     ]
    }
   ],
   "source": [
    "#loops questions\n",
    "#wap  to print natural number\n",
    "print(\"the 10 natural number are:\")\n",
    "for i in range(11):\n",
    "    print(i)\n",
    "    #HERE THE RANGE() WILL TAKES THE VALUE FROM 0-10=11"
   ]
  },
  {
   "cell_type": "code",
   "execution_count": 11,
   "metadata": {},
   "outputs": [
    {
     "name": "stdout",
     "output_type": "stream",
     "text": [
      "10\n",
      "9\n",
      "8\n",
      "7\n",
      "6\n",
      "5\n",
      "4\n",
      "3\n",
      "2\n",
      "1\n"
     ]
    }
   ],
   "source": [
    "#WAP TO PRINT NATURAL number in reverse order\n",
    "for i in range(10,0,-1):\n",
    "    print(i)"
   ]
  },
  {
   "cell_type": "code",
   "execution_count": 16,
   "metadata": {},
   "outputs": [
    {
     "name": "stdout",
     "output_type": "stream",
     "text": [
      "your even number from 1-30\n",
      "0\n",
      "2\n",
      "4\n",
      "6\n",
      "8\n",
      "10\n",
      "12\n",
      "14\n",
      "16\n",
      "18\n",
      "20\n",
      "22\n",
      "24\n",
      "26\n",
      "28\n",
      "30\n"
     ]
    }
   ],
   "source": [
    "#wap to print to find even numbers from 1-30\n",
    "print(\"your even number from 1-30\")\n",
    "for j in range(0,31):\n",
    "    if(j%2==0):\n",
    "        print(j)"
   ]
  },
  {
   "cell_type": "code",
   "execution_count": 21,
   "metadata": {},
   "outputs": [
    {
     "name": "stdout",
     "output_type": "stream",
     "text": [
      "yur odd numbers areee\n",
      "1\n",
      "3\n",
      "5\n",
      "7\n",
      "9\n",
      "11\n",
      "13\n",
      "15\n",
      "17\n",
      "19\n",
      "21\n",
      "23\n",
      "25\n",
      "27\n",
      "29\n"
     ]
    }
   ],
   "source": [
    "#wap to print the odd number using for loop\n",
    "print(\"yur odd numbers areee\")\n",
    "for i in range(0,30):\n",
    "    if(i%2==1):\n",
    "        print(i)"
   ]
  },
  {
   "cell_type": "code",
   "execution_count": 32,
   "metadata": {},
   "outputs": [
    {
     "name": "stdout",
     "output_type": "stream",
     "text": [
      "enter your last limits:\n",
      "55\n"
     ]
    }
   ],
   "source": [
    "#calculate the sum of all number from 1-given number using range fun\n",
    "print(\"enter your last limits:\")\n",
    "sum=0\n",
    "for j in range(11):\n",
    "  sum=j+sum\n",
    "print(sum)"
   ]
  },
  {
   "cell_type": "code",
   "execution_count": 38,
   "metadata": {},
   "outputs": [
    {
     "name": "stdout",
     "output_type": "stream",
     "text": [
      "sum of a given numbers is  : 78\n"
     ]
    }
   ],
   "source": [
    "#calculate the sum of all number from 1-given number using range fun\n",
    "num=int(input(\"enter your limit\"))\n",
    "sum=0\n",
    "for i in range(num+1):\n",
    "    sum=i+sum\n",
    "print(\"sum of a given numbers is  :\",sum\n",
    ")\n"
   ]
  },
  {
   "cell_type": "code",
   "execution_count": 54,
   "metadata": {},
   "outputs": [
    {
     "name": "stdout",
     "output_type": "stream",
     "text": [
      "10 * 1 = 10\n",
      "10 * 2 = 20\n",
      "10 * 3 = 30\n",
      "10 * 4 = 40\n",
      "10 * 5 = 50\n",
      "10 * 6 = 60\n",
      "10 * 7 = 70\n",
      "10 * 8 = 80\n",
      "10 * 9 = 90\n",
      "10 * 10 = 100\n"
     ]
    }
   ],
   "source": [
    "#wap to print the table.\n",
    "n=int(input(\"enter number : \"))\n",
    "for k  in range(1,11):\n",
    "    t=n*k\n",
    "    print(n,\"*\",k,\"=\",t)"
   ]
  },
  {
   "cell_type": "code",
   "execution_count": 63,
   "metadata": {},
   "outputs": [
    {
     "name": "stdout",
     "output_type": "stream",
     "text": [
      "5\n",
      "10\n",
      "15\n",
      "20\n",
      "25\n",
      "30\n",
      "35\n",
      "40\n",
      "45\n",
      "50\n"
     ]
    }
   ],
   "source": [
    "#wap to print the table via range(short term)\n",
    "num=5\n",
    "for j in range(1,11):\n",
    "    print(num*j)\n",
    "\n"
   ]
  },
  {
   "cell_type": "code",
   "execution_count": 76,
   "metadata": {},
   "outputs": [
    {
     "name": "stdout",
     "output_type": "stream",
     "text": [
      "u write youre choices is :  3\n",
      "table is  :  10\n",
      "table is  :  20\n",
      "table is  :  30\n",
      "table is  :  40\n",
      "table is  :  50\n",
      "table is  :  60\n",
      "table is  :  70\n",
      "table is  :  80\n",
      "table is  :  90\n",
      "table is  :  100\n",
      "u write youre choices is :  3\n",
      "table is  :  20\n",
      "table is  :  40\n",
      "table is  :  60\n",
      "table is  :  80\n",
      "table is  :  100\n",
      "table is  :  120\n",
      "table is  :  140\n",
      "table is  :  160\n",
      "table is  :  180\n",
      "table is  :  200\n",
      "u write youre choices is :  3\n",
      "table is  :  15\n",
      "table is  :  30\n",
      "table is  :  45\n",
      "table is  :  60\n",
      "table is  :  75\n",
      "table is  :  90\n",
      "table is  :  105\n",
      "table is  :  120\n",
      "table is  :  135\n",
      "table is  :  150\n"
     ]
    }
   ],
   "source": [
    "#wap to print the table from in range of (1-5)\n",
    "choice=int(input(\"enter your choices :\"))\n",
    "for k  in range(choice):\n",
    "    num=int(input(\"enter your number which u want to print the table,,, : \"))\n",
    "    print(\"u write youre choices is : \",choice)\n",
    "    for m in range(1,11):\n",
    "        t=num*m\n",
    "        end=\"\"\n",
    "        print(\"table is  : \",t)\n",
    "\n",
    "\n",
    "#if u want to put your choice then it will print your table according to need"
   ]
  },
  {
   "cell_type": "code",
   "execution_count": 1,
   "metadata": {},
   "outputs": [
    {
     "name": "stdout",
     "output_type": "stream",
     "text": [
      "4\n"
     ]
    }
   ],
   "source": [
    "#wap to count the total; number of digits in a number(5467=4)\n",
    "num=int(input(\"enter your number \"))\n",
    "Counter=0\n",
    "while(num!=0):\n",
    "    num=num//10\n",
    "    Counter=Counter+1\n",
    "print(Counter)    "
   ]
  },
  {
   "cell_type": "code",
   "execution_count": 5,
   "metadata": {},
   "outputs": [
    {
     "name": "stdout",
     "output_type": "stream",
     "text": [
      "2 4 6 8 10 12 14 16 18 20 22 24 26 28 30 32 34 36 38 40 42 44 46 48 50 "
     ]
    }
   ],
   "source": [
    "#wap to 0-50 print even number\n",
    "for i in range(1,51):\n",
    "    if(i%2==0):\n",
    "        print(i,end=\" \")"
   ]
  },
  {
   "cell_type": "code",
   "execution_count": 6,
   "metadata": {},
   "outputs": [
    {
     "name": "stdout",
     "output_type": "stream",
     "text": [
      "square root of a given num is : 25\n"
     ]
    }
   ],
   "source": [
    "#WAP TO 0-30 PRINT THE SQUARE ROOTS\n",
    "n=int(input(\"enter the number between range of 0-30 \"))\n",
    "print(\"square root of a given num is :\",n*n )\n"
   ]
  },
  {
   "cell_type": "code",
   "execution_count": 7,
   "metadata": {},
   "outputs": [
    {
     "name": "stdout",
     "output_type": "stream",
     "text": [
      "THE SQUARE ROOTS ARE :\n",
      "the square root os a  i  number 0 0\n",
      "the square root os a  i  number 1 1\n",
      "the square root os a  i  number 2 4\n",
      "the square root os a  i  number 3 9\n",
      "the square root os a  i  number 4 16\n",
      "the square root os a  i  number 5 25\n",
      "the square root os a  i  number 6 36\n",
      "the square root os a  i  number 7 49\n",
      "the square root os a  i  number 8 64\n",
      "the square root os a  i  number 9 81\n",
      "the square root os a  i  number 10 100\n"
     ]
    }
   ],
   "source": [
    "#WAP TO PRINT THE SQUARE ROOT FROM 0-10\n",
    "print(\"THE SQUARE ROOTS ARE :\")\n",
    "for  i in range(0,11):\n",
    "    print(\"the square root os a \",'i',\" number\",i,i*i)"
   ]
  },
  {
   "cell_type": "code",
   "execution_count": 12,
   "metadata": {},
   "outputs": [
    {
     "name": "stdout",
     "output_type": "stream",
     "text": [
      "the curent number is i the cube root is   1 1\n",
      "the curent number is i the cube root is   2 8\n",
      "the curent number is i the cube root is   3 27\n",
      "the curent number is i the cube root is   4 64\n",
      "the curent number is i the cube root is   5 125\n",
      "the curent number is i the cube root is   6 216\n",
      "the curent number is i the cube root is   7 343\n",
      "the curent number is i the cube root is   8 512\n",
      "the curent number is i the cube root is   9 729\n",
      "the curent number is i the cube root is   10 1000\n"
     ]
    }
   ],
   "source": [
    "#wap to print the cube root of a given number :\n",
    "for i in range(1,11):\n",
    "    c=i*i*i\n",
    "    print(\"the curent number is\",\"i\",\"the cube root is  \",i,i*i*i)"
   ]
  },
  {
   "cell_type": "code",
   "execution_count": null,
   "metadata": {},
   "outputs": [],
   "source": [
    "#wap to check the palindrome  number\n",
    "t=3333\n",
    "r=0\n",
    "while(t>=0):"
   ]
  },
  {
   "cell_type": "code",
   "execution_count": 3,
   "metadata": {},
   "outputs": [
    {
     "name": "stdout",
     "output_type": "stream",
     "text": [
      "this is prime number\n"
     ]
    }
   ],
   "source": [
    "#wap to check the prime number\n",
    "n=int(input(\"enter your number:\"))\n",
    "k=0\n",
    "for i in range(1,n+1):\n",
    "    if(n%i==0):\n",
    "        k=k+1\n",
    "if(k==2):\n",
    "    print(\"this is prime number\")\n",
    "else:\n",
    "    print(\"this is not a prime numnber\")"
   ]
  },
  {
   "cell_type": "code",
   "execution_count": null,
   "metadata": {},
   "outputs": [],
   "source": []
  },
  {
   "cell_type": "code",
   "execution_count": null,
   "metadata": {},
   "outputs": [],
   "source": []
  }
 ],
 "metadata": {
  "interpreter": {
   "hash": "9bf2ca0f4a7adc3ce2f237ca763c1538d3ef289a4e7face3612a01cdae9f6807"
  },
  "kernelspec": {
   "display_name": "Python 3.10.0 64-bit",
   "language": "python",
   "name": "python3"
  },
  "language_info": {
   "codemirror_mode": {
    "name": "ipython",
    "version": 3
   },
   "file_extension": ".py",
   "mimetype": "text/x-python",
   "name": "python",
   "nbconvert_exporter": "python",
   "pygments_lexer": "ipython3",
   "version": "3.10.0"
  },
  "orig_nbformat": 4
 },
 "nbformat": 4,
 "nbformat_minor": 2
}
